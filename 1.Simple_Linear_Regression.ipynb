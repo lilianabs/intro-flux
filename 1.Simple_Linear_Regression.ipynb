{
 "cells": [
  {
   "cell_type": "markdown",
   "metadata": {},
   "source": [
    "# A simple liner regression example in Flux\n",
    "\n",
    "In this notebook, we go through a simple linear regression model using [Flux](https://fluxml.ai/) which is a Machine Learning library for Julia. This example is based on [this one](https://discourse.julialang.org/t/training-a-simple-linear-model-in-flux/24741/2).\n",
    "\n",
    "To train a ML model we need to define the following elements:\n",
    "\n",
    "* Data set\n",
    "* Parameters of the model\n",
    "* Objective function\n",
    "* Optimization routine"
   ]
  },
  {
   "cell_type": "code",
   "execution_count": 9,
   "metadata": {},
   "outputs": [
    {
     "name": "stderr",
     "output_type": "stream",
     "text": [
      "┌ Info: For saving to png with the Plotly backend ORCA has to be installed.\n",
      "└ @ Plots /home/liliana/.julia/packages/Plots/8GUYs/src/backends.jl:363\n"
     ]
    },
    {
     "data": {
      "text/plain": [
       "Plots.PlotlyBackend()"
      ]
     },
     "execution_count": 9,
     "metadata": {},
     "output_type": "execute_result"
    }
   ],
   "source": [
    "#Load the necessary packages\n",
    "using Flux, Plots\n",
    "using Flux: throttle, @epochs\n",
    "\n",
    "#Backed for Plots\n",
    "plotly()"
   ]
  },
  {
   "cell_type": "markdown",
   "metadata": {},
   "source": [
    "## Data set\n",
    "\n",
    "Usually, we start by obtaining the data set that we use to train our model and test it. For this example, we'll create some random data and reshape it so we can pass it to our model.\n",
    "\n",
    "We are creating a simple regression model with one input. Hence, we need to create a data set with one feature."
   ]
  },
  {
   "cell_type": "code",
   "execution_count": 3,
   "metadata": {},
   "outputs": [],
   "source": [
    "X = rand(100);\n",
    "Y = 0.5X + rand(100);"
   ]
  },
  {
   "cell_type": "markdown",
   "metadata": {},
   "source": [
    "We visualize the data we just created."
   ]
  },
  {
   "cell_type": "code",
   "execution_count": 10,
   "metadata": {},
   "outputs": [
    {
     "data": {
      "text/html": [
       "    <script type=\"text/javascript\">\n",
       "        requirejs([\"https://cdn.plot.ly/plotly-latest.min.js\"], function(p) {\n",
       "            window.Plotly = p\n",
       "        });\n",
       "    </script>\n"
      ]
     },
     "metadata": {},
     "output_type": "display_data"
    },
    {
     "data": {
      "application/vnd.plotly.v1+json": {
       "data": [
        {
         "colorbar": {
          "title": ""
         },
         "legendgroup": "y1",
         "marker": {
          "color": "rgba(0, 154, 250, 1.000)",
          "line": {
           "color": "rgba(0, 0, 0, 1.000)",
           "width": 1
          },
          "size": 8,
          "symbol": "circle"
         },
         "mode": "markers",
         "name": "y1",
         "showlegend": true,
         "type": "scatter",
         "x": [
          0.5942139230962777,
          0.589809855242762,
          0.927790864509574,
          0.11182551030679888,
          0.05521934633813852,
          0.5909438043846442,
          0.876486616850914,
          0.8916634754143173,
          0.3756877933177034,
          0.7236991975990565,
          0.8589937933855742,
          0.3482273593117766,
          0.38651764431761415,
          0.1822056255502098,
          0.6301037920507797,
          0.05569856435833698,
          0.7085094175758304,
          0.11157465199638783,
          0.6858603691133924,
          0.16168091322306744,
          0.23623227917442136,
          0.8636178556758463,
          0.9610200591371194,
          0.4544422220291642,
          0.29040972875584914,
          0.5291536619243231,
          0.49508959195702285,
          0.8729695087367251,
          0.9601441316843067,
          0.6753614854748173,
          0.8007259290482918,
          0.7516639326897336,
          0.48536556396196273,
          0.5812694198881927,
          0.16596024592176617,
          0.7741251688030006,
          0.6829517084976737,
          0.19253326575730956,
          0.8038084351100965,
          0.9176802425396384,
          0.6400418532386245,
          0.5884902791721667,
          0.9687239105155878,
          0.3031294655914185,
          0.8848223886720232,
          0.24609356336179022,
          0.7503075807368891,
          0.8196965027453498,
          0.3354918730308698,
          0.6855786342854697,
          0.8322278597207369,
          0.7303465095125312,
          0.21032048368803968,
          0.5444166904837529,
          0.7968358444162535,
          0.7240731396402584,
          0.18427038726454947,
          0.4942143092409228,
          0.6092275202245416,
          0.9702426314871617,
          0.027720617506150624,
          0.29111153128384015,
          0.047698812831102,
          0.6611848872641424,
          0.5608345027204218,
          0.15666168584693851,
          0.7027691991256633,
          0.8051551423773378,
          0.28157242726252374,
          0.04520228801085313,
          0.7231049095477013,
          0.6475509405738149,
          0.9128824108588294,
          0.7626560992644593,
          0.7866586305183758,
          0.3547200933714476,
          0.28736178893721775,
          0.9516985299424878,
          0.6242461385071538,
          0.6221899742929728,
          0.4624108481760687,
          0.7420556502355793,
          0.94074659558762,
          0.021160607401748077,
          0.9063276296462823,
          0.6940631241181001,
          0.9351704131586165,
          0.6469063701954192,
          0.6894098364244738,
          0.2211064815930659,
          0.6988781216959228,
          0.18265850632354708,
          0.028358611411541723,
          0.8201172419895999,
          0.5363328974022117,
          0.09423358226511569,
          0.800845495263677,
          0.7207845135239299,
          0.79623210574655,
          0.533772300843236
         ],
         "xaxis": "x1",
         "y": [
          0.6249055786070982,
          0.9035519169668224,
          0.7007618213342235,
          0.936684561735393,
          0.6422962469130385,
          1.2447311568789519,
          0.8904256859308503,
          1.299180660516885,
          1.0124519529935743,
          1.0477026156853821,
          0.6923974221148957,
          0.4837388833918391,
          0.41567699935604396,
          0.6190053719552883,
          0.562754457010842,
          0.5974870165044877,
          0.8332545095890364,
          0.661646370679405,
          0.5213973388521346,
          0.36385301679810156,
          0.2595922022436613,
          0.7736150449426809,
          0.8770249519845231,
          1.2079753539597564,
          0.6654435343093769,
          0.7424301068860385,
          0.3811007389614499,
          0.7887694401879313,
          1.4791018631888682,
          0.5351476130504753,
          0.5148954130994495,
          1.3185679420393435,
          0.7294206291032903,
          1.0148978458464661,
          0.32118304413170984,
          0.424849468282952,
          1.328546721130627,
          0.24589635121456488,
          0.9625145868136431,
          0.787003758947949,
          1.1030231041450933,
          0.734566652044034,
          1.445527477771909,
          0.8758405230385597,
          0.6608536329232404,
          0.2846115861491314,
          0.6372554660479903,
          1.0641934751885112,
          0.6912496676448469,
          1.3382282926929139,
          1.381172815731391,
          0.43835053715015637,
          0.603924250834091,
          1.1806332150191017,
          0.9958117754570479,
          0.4913751883864076,
          0.11792160664221907,
          0.2588863800113884,
          0.5988893484459935,
          0.5058684946685713,
          0.7867239971340005,
          0.6249847618901417,
          0.14459256172439283,
          0.6454610397350623,
          0.5166146427907462,
          1.0281197058804956,
          1.3013960894069787,
          0.6337367058519326,
          0.4743222158368925,
          0.8732017563973888,
          0.4252283171278828,
          0.85966791432171,
          0.7107068701954673,
          0.5249225443809192,
          1.1675860243920053,
          1.174144377647056,
          0.7660843950647708,
          1.1849982498181837,
          1.2885781154108082,
          1.0529246413903404,
          0.5709929221285865,
          1.0523804115428042,
          0.642422833792929,
          0.29281914627829186,
          1.1095205739832086,
          1.1524046545843343,
          0.6136786931445901,
          0.4291088702628776,
          0.6659675727774707,
          0.7397340377809626,
          0.37888383882783616,
          0.2847214990452376,
          0.4102031670601165,
          0.7427332638374181,
          0.6990738490032881,
          0.9094185833768278,
          1.1615665402679787,
          1.054404914081351,
          1.2395782959852504,
          0.7808209809623312
         ],
         "yaxis": "y1",
         "zmax": null,
         "zmin": null
        }
       ],
       "layout": {
        "annotations": [
         {
          "font": {
           "color": "rgba(0, 0, 0, 1.000)",
           "family": "sans-serif",
           "size": 20
          },
          "rotation": 0,
          "showarrow": false,
          "text": "Data",
          "x": 0.5222222222222223,
          "xanchor": "center",
          "xref": "paper",
          "y": 1,
          "yanchor": "top",
          "yref": "paper"
         }
        ],
        "height": 400,
        "legend": {
         "bgcolor": "rgba(255, 255, 255, 1.000)",
         "bordercolor": "rgba(0, 0, 0, 1.000)",
         "font": {
          "color": "rgba(0, 0, 0, 1.000)",
          "family": "sans-serif",
          "size": 11
         },
         "tracegroupgap": 0,
         "x": 1,
         "y": 1
        },
        "margin": {
         "b": 20,
         "l": 0,
         "r": 0,
         "t": 20
        },
        "paper_bgcolor": "rgba(255, 255, 255, 1.000)",
        "plot_bgcolor": "rgba(255, 255, 255, 1.000)",
        "showlegend": true,
        "width": 600,
        "xaxis": {
         "anchor": "y1",
         "domain": [
          0.05100612423447069,
          0.9934383202099737
         ],
         "gridcolor": "rgba(0, 0, 0, 0.100)",
         "gridwidth": 0.5,
         "linecolor": "rgba(0, 0, 0, 1.000)",
         "mirror": false,
         "range": [
          -0.00731185332081433,
          0.9987150922097241
         ],
         "showgrid": true,
         "showline": true,
         "showticklabels": true,
         "tickangle": 0,
         "tickcolor": "rgb(0, 0, 0)",
         "tickfont": {
          "color": "rgba(0, 0, 0, 1.000)",
          "family": "sans-serif",
          "size": 11
         },
         "tickmode": "array",
         "ticks": "inside",
         "ticktext": [
          "0.0",
          "0.2",
          "0.4",
          "0.6",
          "0.8"
         ],
         "tickvals": [
          0,
          0.2,
          0.4,
          0.6000000000000001,
          0.8
         ],
         "title": "",
         "titlefont": {
          "color": "rgba(0, 0, 0, 1.000)",
          "family": "sans-serif",
          "size": 15
         },
         "type": "-",
         "visible": true,
         "zeroline": false,
         "zerolinecolor": "rgba(0, 0, 0, 1.000)"
        },
        "yaxis": {
         "anchor": "x1",
         "domain": [
          0.03762029746281716,
          0.9415463692038496
         ],
         "gridcolor": "rgba(0, 0, 0, 0.100)",
         "gridwidth": 0.5,
         "linecolor": "rgba(0, 0, 0, 1.000)",
         "mirror": false,
         "range": [
          0.0770861989458196,
          1.5199372708852676
         ],
         "showgrid": true,
         "showline": true,
         "showticklabels": true,
         "tickangle": 0,
         "tickcolor": "rgb(0, 0, 0)",
         "tickfont": {
          "color": "rgba(0, 0, 0, 1.000)",
          "family": "sans-serif",
          "size": 11
         },
         "tickmode": "array",
         "ticks": "inside",
         "ticktext": [
          "0.2",
          "0.4",
          "0.6",
          "0.8",
          "1.0",
          "1.2",
          "1.4"
         ],
         "tickvals": [
          0.2,
          0.4,
          0.6000000000000001,
          0.8,
          1,
          1.2000000000000002,
          1.4000000000000001
         ],
         "title": "",
         "titlefont": {
          "color": "rgba(0, 0, 0, 1.000)",
          "family": "sans-serif",
          "size": 15
         },
         "type": "-",
         "visible": true,
         "zeroline": false,
         "zerolinecolor": "rgba(0, 0, 0, 1.000)"
        }
       }
      },
      "text/html": [
       "<!DOCTYPE html>\n",
       "<html>\n",
       "    <head>\n",
       "        <title>Plots.jl</title>\n",
       "        <meta http-equiv=\"content-type\" content=\"text/html; charset=UTF-8\">\n",
       "        <script src=\"https://cdn.plot.ly/plotly-latest.min.js\"></script>\n",
       "    </head>\n",
       "    <body>\n",
       "            <div id=\"24bdf3a1-20ad-419f-bc0a-b636fbd10283\" style=\"width:600px;height:400px;\"></div>\n",
       "    <script>\n",
       "    PLOT = document.getElementById('24bdf3a1-20ad-419f-bc0a-b636fbd10283');\n",
       "    Plotly.plot(PLOT, [\n",
       "    {\n",
       "        \"xaxis\": \"x1\",\n",
       "        \"colorbar\": {\n",
       "            \"title\": \"\"\n",
       "        },\n",
       "        \"yaxis\": \"y1\",\n",
       "        \"x\": [\n",
       "            0.5942139230962777,\n",
       "            0.589809855242762,\n",
       "            0.927790864509574,\n",
       "            0.11182551030679888,\n",
       "            0.05521934633813852,\n",
       "            0.5909438043846442,\n",
       "            0.876486616850914,\n",
       "            0.8916634754143173,\n",
       "            0.3756877933177034,\n",
       "            0.7236991975990565,\n",
       "            0.8589937933855742,\n",
       "            0.3482273593117766,\n",
       "            0.38651764431761415,\n",
       "            0.1822056255502098,\n",
       "            0.6301037920507797,\n",
       "            0.05569856435833698,\n",
       "            0.7085094175758304,\n",
       "            0.11157465199638783,\n",
       "            0.6858603691133924,\n",
       "            0.16168091322306744,\n",
       "            0.23623227917442136,\n",
       "            0.8636178556758463,\n",
       "            0.9610200591371194,\n",
       "            0.4544422220291642,\n",
       "            0.29040972875584914,\n",
       "            0.5291536619243231,\n",
       "            0.49508959195702285,\n",
       "            0.8729695087367251,\n",
       "            0.9601441316843067,\n",
       "            0.6753614854748173,\n",
       "            0.8007259290482918,\n",
       "            0.7516639326897336,\n",
       "            0.48536556396196273,\n",
       "            0.5812694198881927,\n",
       "            0.16596024592176617,\n",
       "            0.7741251688030006,\n",
       "            0.6829517084976737,\n",
       "            0.19253326575730956,\n",
       "            0.8038084351100965,\n",
       "            0.9176802425396384,\n",
       "            0.6400418532386245,\n",
       "            0.5884902791721667,\n",
       "            0.9687239105155878,\n",
       "            0.3031294655914185,\n",
       "            0.8848223886720232,\n",
       "            0.24609356336179022,\n",
       "            0.7503075807368891,\n",
       "            0.8196965027453498,\n",
       "            0.3354918730308698,\n",
       "            0.6855786342854697,\n",
       "            0.8322278597207369,\n",
       "            0.7303465095125312,\n",
       "            0.21032048368803968,\n",
       "            0.5444166904837529,\n",
       "            0.7968358444162535,\n",
       "            0.7240731396402584,\n",
       "            0.18427038726454947,\n",
       "            0.4942143092409228,\n",
       "            0.6092275202245416,\n",
       "            0.9702426314871617,\n",
       "            0.027720617506150624,\n",
       "            0.29111153128384015,\n",
       "            0.047698812831102,\n",
       "            0.6611848872641424,\n",
       "            0.5608345027204218,\n",
       "            0.15666168584693851,\n",
       "            0.7027691991256633,\n",
       "            0.8051551423773378,\n",
       "            0.28157242726252374,\n",
       "            0.04520228801085313,\n",
       "            0.7231049095477013,\n",
       "            0.6475509405738149,\n",
       "            0.9128824108588294,\n",
       "            0.7626560992644593,\n",
       "            0.7866586305183758,\n",
       "            0.3547200933714476,\n",
       "            0.28736178893721775,\n",
       "            0.9516985299424878,\n",
       "            0.6242461385071538,\n",
       "            0.6221899742929728,\n",
       "            0.4624108481760687,\n",
       "            0.7420556502355793,\n",
       "            0.94074659558762,\n",
       "            0.021160607401748077,\n",
       "            0.9063276296462823,\n",
       "            0.6940631241181001,\n",
       "            0.9351704131586165,\n",
       "            0.6469063701954192,\n",
       "            0.6894098364244738,\n",
       "            0.2211064815930659,\n",
       "            0.6988781216959228,\n",
       "            0.18265850632354708,\n",
       "            0.028358611411541723,\n",
       "            0.8201172419895999,\n",
       "            0.5363328974022117,\n",
       "            0.09423358226511569,\n",
       "            0.800845495263677,\n",
       "            0.7207845135239299,\n",
       "            0.79623210574655,\n",
       "            0.533772300843236\n",
       "        ],\n",
       "        \"showlegend\": true,\n",
       "        \"mode\": \"markers\",\n",
       "        \"name\": \"y1\",\n",
       "        \"zmin\": null,\n",
       "        \"legendgroup\": \"y1\",\n",
       "        \"marker\": {\n",
       "            \"symbol\": \"circle\",\n",
       "            \"color\": \"rgba(0, 154, 250, 1.000)\",\n",
       "            \"line\": {\n",
       "                \"color\": \"rgba(0, 0, 0, 1.000)\",\n",
       "                \"width\": 1\n",
       "            },\n",
       "            \"size\": 8\n",
       "        },\n",
       "        \"zmax\": null,\n",
       "        \"y\": [\n",
       "            0.6249055786070982,\n",
       "            0.9035519169668224,\n",
       "            0.7007618213342235,\n",
       "            0.936684561735393,\n",
       "            0.6422962469130385,\n",
       "            1.2447311568789519,\n",
       "            0.8904256859308503,\n",
       "            1.299180660516885,\n",
       "            1.0124519529935743,\n",
       "            1.0477026156853821,\n",
       "            0.6923974221148957,\n",
       "            0.4837388833918391,\n",
       "            0.41567699935604396,\n",
       "            0.6190053719552883,\n",
       "            0.562754457010842,\n",
       "            0.5974870165044877,\n",
       "            0.8332545095890364,\n",
       "            0.661646370679405,\n",
       "            0.5213973388521346,\n",
       "            0.36385301679810156,\n",
       "            0.2595922022436613,\n",
       "            0.7736150449426809,\n",
       "            0.8770249519845231,\n",
       "            1.2079753539597564,\n",
       "            0.6654435343093769,\n",
       "            0.7424301068860385,\n",
       "            0.3811007389614499,\n",
       "            0.7887694401879313,\n",
       "            1.4791018631888682,\n",
       "            0.5351476130504753,\n",
       "            0.5148954130994495,\n",
       "            1.3185679420393435,\n",
       "            0.7294206291032903,\n",
       "            1.0148978458464661,\n",
       "            0.32118304413170984,\n",
       "            0.424849468282952,\n",
       "            1.328546721130627,\n",
       "            0.24589635121456488,\n",
       "            0.9625145868136431,\n",
       "            0.787003758947949,\n",
       "            1.1030231041450933,\n",
       "            0.734566652044034,\n",
       "            1.445527477771909,\n",
       "            0.8758405230385597,\n",
       "            0.6608536329232404,\n",
       "            0.2846115861491314,\n",
       "            0.6372554660479903,\n",
       "            1.0641934751885112,\n",
       "            0.6912496676448469,\n",
       "            1.3382282926929139,\n",
       "            1.381172815731391,\n",
       "            0.43835053715015637,\n",
       "            0.603924250834091,\n",
       "            1.1806332150191017,\n",
       "            0.9958117754570479,\n",
       "            0.4913751883864076,\n",
       "            0.11792160664221907,\n",
       "            0.2588863800113884,\n",
       "            0.5988893484459935,\n",
       "            0.5058684946685713,\n",
       "            0.7867239971340005,\n",
       "            0.6249847618901417,\n",
       "            0.14459256172439283,\n",
       "            0.6454610397350623,\n",
       "            0.5166146427907462,\n",
       "            1.0281197058804956,\n",
       "            1.3013960894069787,\n",
       "            0.6337367058519326,\n",
       "            0.4743222158368925,\n",
       "            0.8732017563973888,\n",
       "            0.4252283171278828,\n",
       "            0.85966791432171,\n",
       "            0.7107068701954673,\n",
       "            0.5249225443809192,\n",
       "            1.1675860243920053,\n",
       "            1.174144377647056,\n",
       "            0.7660843950647708,\n",
       "            1.1849982498181837,\n",
       "            1.2885781154108082,\n",
       "            1.0529246413903404,\n",
       "            0.5709929221285865,\n",
       "            1.0523804115428042,\n",
       "            0.642422833792929,\n",
       "            0.29281914627829186,\n",
       "            1.1095205739832086,\n",
       "            1.1524046545843343,\n",
       "            0.6136786931445901,\n",
       "            0.4291088702628776,\n",
       "            0.6659675727774707,\n",
       "            0.7397340377809626,\n",
       "            0.37888383882783616,\n",
       "            0.2847214990452376,\n",
       "            0.4102031670601165,\n",
       "            0.7427332638374181,\n",
       "            0.6990738490032881,\n",
       "            0.9094185833768278,\n",
       "            1.1615665402679787,\n",
       "            1.054404914081351,\n",
       "            1.2395782959852504,\n",
       "            0.7808209809623312\n",
       "        ],\n",
       "        \"type\": \"scatter\"\n",
       "    }\n",
       "]\n",
       ", {\n",
       "    \"showlegend\": true,\n",
       "    \"xaxis\": {\n",
       "        \"showticklabels\": true,\n",
       "        \"gridwidth\": 0.5,\n",
       "        \"tickvals\": [\n",
       "            0.0,\n",
       "            0.2,\n",
       "            0.4,\n",
       "            0.6000000000000001,\n",
       "            0.8\n",
       "        ],\n",
       "        \"visible\": true,\n",
       "        \"ticks\": \"inside\",\n",
       "        \"range\": [\n",
       "            -0.00731185332081433,\n",
       "            0.9987150922097241\n",
       "        ],\n",
       "        \"domain\": [\n",
       "            0.05100612423447069,\n",
       "            0.9934383202099737\n",
       "        ],\n",
       "        \"tickmode\": \"array\",\n",
       "        \"linecolor\": \"rgba(0, 0, 0, 1.000)\",\n",
       "        \"showgrid\": true,\n",
       "        \"title\": \"\",\n",
       "        \"mirror\": false,\n",
       "        \"tickangle\": 0,\n",
       "        \"showline\": true,\n",
       "        \"gridcolor\": \"rgba(0, 0, 0, 0.100)\",\n",
       "        \"titlefont\": {\n",
       "            \"color\": \"rgba(0, 0, 0, 1.000)\",\n",
       "            \"family\": \"sans-serif\",\n",
       "            \"size\": 15\n",
       "        },\n",
       "        \"tickcolor\": \"rgb(0, 0, 0)\",\n",
       "        \"ticktext\": [\n",
       "            \"0.0\",\n",
       "            \"0.2\",\n",
       "            \"0.4\",\n",
       "            \"0.6\",\n",
       "            \"0.8\"\n",
       "        ],\n",
       "        \"zeroline\": false,\n",
       "        \"type\": \"-\",\n",
       "        \"tickfont\": {\n",
       "            \"color\": \"rgba(0, 0, 0, 1.000)\",\n",
       "            \"family\": \"sans-serif\",\n",
       "            \"size\": 11\n",
       "        },\n",
       "        \"zerolinecolor\": \"rgba(0, 0, 0, 1.000)\",\n",
       "        \"anchor\": \"y1\"\n",
       "    },\n",
       "    \"paper_bgcolor\": \"rgba(255, 255, 255, 1.000)\",\n",
       "    \"annotations\": [\n",
       "        {\n",
       "            \"yanchor\": \"top\",\n",
       "            \"xanchor\": \"center\",\n",
       "            \"rotation\": -0.0,\n",
       "            \"y\": 1.0,\n",
       "            \"font\": {\n",
       "                \"color\": \"rgba(0, 0, 0, 1.000)\",\n",
       "                \"family\": \"sans-serif\",\n",
       "                \"size\": 20\n",
       "            },\n",
       "            \"yref\": \"paper\",\n",
       "            \"showarrow\": false,\n",
       "            \"text\": \"Data\",\n",
       "            \"xref\": \"paper\",\n",
       "            \"x\": 0.5222222222222223\n",
       "        }\n",
       "    ],\n",
       "    \"height\": 400,\n",
       "    \"margin\": {\n",
       "        \"l\": 0,\n",
       "        \"b\": 20,\n",
       "        \"r\": 0,\n",
       "        \"t\": 20\n",
       "    },\n",
       "    \"plot_bgcolor\": \"rgba(255, 255, 255, 1.000)\",\n",
       "    \"yaxis\": {\n",
       "        \"showticklabels\": true,\n",
       "        \"gridwidth\": 0.5,\n",
       "        \"tickvals\": [\n",
       "            0.2,\n",
       "            0.4,\n",
       "            0.6000000000000001,\n",
       "            0.8,\n",
       "            1.0,\n",
       "            1.2000000000000002,\n",
       "            1.4000000000000001\n",
       "        ],\n",
       "        \"visible\": true,\n",
       "        \"ticks\": \"inside\",\n",
       "        \"range\": [\n",
       "            0.0770861989458196,\n",
       "            1.5199372708852676\n",
       "        ],\n",
       "        \"domain\": [\n",
       "            0.03762029746281716,\n",
       "            0.9415463692038496\n",
       "        ],\n",
       "        \"tickmode\": \"array\",\n",
       "        \"linecolor\": \"rgba(0, 0, 0, 1.000)\",\n",
       "        \"showgrid\": true,\n",
       "        \"title\": \"\",\n",
       "        \"mirror\": false,\n",
       "        \"tickangle\": 0,\n",
       "        \"showline\": true,\n",
       "        \"gridcolor\": \"rgba(0, 0, 0, 0.100)\",\n",
       "        \"titlefont\": {\n",
       "            \"color\": \"rgba(0, 0, 0, 1.000)\",\n",
       "            \"family\": \"sans-serif\",\n",
       "            \"size\": 15\n",
       "        },\n",
       "        \"tickcolor\": \"rgb(0, 0, 0)\",\n",
       "        \"ticktext\": [\n",
       "            \"0.2\",\n",
       "            \"0.4\",\n",
       "            \"0.6\",\n",
       "            \"0.8\",\n",
       "            \"1.0\",\n",
       "            \"1.2\",\n",
       "            \"1.4\"\n",
       "        ],\n",
       "        \"zeroline\": false,\n",
       "        \"type\": \"-\",\n",
       "        \"tickfont\": {\n",
       "            \"color\": \"rgba(0, 0, 0, 1.000)\",\n",
       "            \"family\": \"sans-serif\",\n",
       "            \"size\": 11\n",
       "        },\n",
       "        \"zerolinecolor\": \"rgba(0, 0, 0, 1.000)\",\n",
       "        \"anchor\": \"x1\"\n",
       "    },\n",
       "    \"legend\": {\n",
       "        \"tracegroupgap\": 0,\n",
       "        \"bordercolor\": \"rgba(0, 0, 0, 1.000)\",\n",
       "        \"bgcolor\": \"rgba(255, 255, 255, 1.000)\",\n",
       "        \"font\": {\n",
       "            \"color\": \"rgba(0, 0, 0, 1.000)\",\n",
       "            \"family\": \"sans-serif\",\n",
       "            \"size\": 11\n",
       "        },\n",
       "        \"y\": 1.0,\n",
       "        \"x\": 1.0\n",
       "    },\n",
       "    \"width\": 600\n",
       "}\n",
       ");\n",
       "    </script>\n",
       "\n",
       "    </body>\n",
       "</html>\n"
      ]
     },
     "execution_count": 10,
     "metadata": {},
     "output_type": "execute_result"
    }
   ],
   "source": [
    "scatter(X, Y, title = \"Data\")"
   ]
  },
  {
   "cell_type": "markdown",
   "metadata": {},
   "source": [
    "The data we just created might not have a strong linear correlation but still is useful for trying Flux.\n",
    "\n",
    "Now, we split the data into train and test and prepare it for feeding it into the model."
   ]
  },
  {
   "cell_type": "code",
   "execution_count": 20,
   "metadata": {},
   "outputs": [],
   "source": [
    "train_x, train_y = reduce(hcat, X[1:80]), reduce(hcat, Y[1:80]);\n",
    "test_x, test_y = reduce(hcat, X[81:100]), reduce(hcat, Y[81:100]);"
   ]
  },
  {
   "cell_type": "markdown",
   "metadata": {},
   "source": [
    "**Note:** We need to split the data randomly."
   ]
  },
  {
   "cell_type": "code",
   "execution_count": 23,
   "metadata": {},
   "outputs": [],
   "source": [
    "#Zip the data\n",
    "train_data = [(train_x, train_y)];"
   ]
  },
  {
   "cell_type": "markdown",
   "metadata": {},
   "source": [
    "## Model\n",
    "\n",
    "A simple linear regresssion model is defined as $m = \\sigma.(W*x + b)$. We can define by setting a neuron with no activation function. In Flux, we can use the [Dense](https://fluxml.ai/Flux.jl/stable/models/layers/#Flux.Dense) function to define this model:"
   ]
  },
  {
   "cell_type": "code",
   "execution_count": 24,
   "metadata": {},
   "outputs": [
    {
     "data": {
      "text/plain": [
       "Dense(1, 1)"
      ]
     },
     "execution_count": 24,
     "metadata": {},
     "output_type": "execute_result"
    }
   ],
   "source": [
    "m = Dense(1, 1)"
   ]
  },
  {
   "cell_type": "markdown",
   "metadata": {},
   "source": [
    "Also, we need to obtain the parameters of the model so we can pass it to the train function we'll define below."
   ]
  },
  {
   "cell_type": "code",
   "execution_count": 25,
   "metadata": {},
   "outputs": [
    {
     "data": {
      "text/plain": [
       "Params([Float32[-1.3009212], Float32[0.0]])"
      ]
     },
     "execution_count": 25,
     "metadata": {},
     "output_type": "execute_result"
    }
   ],
   "source": [
    "ps = Flux.params(m)"
   ]
  },
  {
   "cell_type": "markdown",
   "metadata": {},
   "source": [
    "When we create a model, Flux initializes the parameters with random values. At this point we obtain predictions with the current values for the parameters so that we can compare with the values obtained after training the model."
   ]
  },
  {
   "cell_type": "code",
   "execution_count": 28,
   "metadata": {},
   "outputs": [],
   "source": [
    "pred_0 = m(reduce(hcat,X));"
   ]
  },
  {
   "cell_type": "markdown",
   "metadata": {},
   "source": [
    "## Loss function\n",
    "\n",
    "For this example, we use the **MSE** function. Flux has many loss functions that we can use out of the box."
   ]
  },
  {
   "cell_type": "code",
   "execution_count": 37,
   "metadata": {},
   "outputs": [
    {
     "data": {
      "text/plain": [
       "loss (generic function with 1 method)"
      ]
     },
     "execution_count": 37,
     "metadata": {},
     "output_type": "execute_result"
    }
   ],
   "source": [
    "loss(x, y) = Flux.Losses.mse(m(x), y)"
   ]
  },
  {
   "cell_type": "markdown",
   "metadata": {},
   "source": [
    "## Optimiser\n",
    "\n",
    "We need to set the optimization routine (optimiser) that we'll use to train our model. This optimiser will optimise the loss function."
   ]
  },
  {
   "cell_type": "code",
   "execution_count": 30,
   "metadata": {},
   "outputs": [
    {
     "data": {
      "text/plain": [
       "Descent(0.3)"
      ]
     },
     "execution_count": 30,
     "metadata": {},
     "output_type": "execute_result"
    }
   ],
   "source": [
    "#We use Gradient Descent with a learning rate of 0.3\n",
    "opt = Descent(0.3)"
   ]
  },
  {
   "cell_type": "markdown",
   "metadata": {},
   "source": [
    "## Train the model\n",
    "\n",
    "After setting the data, model, loss function and optimiser we can finally train our model. In Flux, we can execute a training step with the `Flux.train!` function."
   ]
  },
  {
   "cell_type": "code",
   "execution_count": 38,
   "metadata": {},
   "outputs": [
    {
     "ename": "LoadError",
     "evalue": "DimensionMismatch(\"second dimension of A, 1, does not match length of x, 80\")",
     "output_type": "error",
     "traceback": [
      "DimensionMismatch(\"second dimension of A, 1, does not match length of x, 80\")",
      "",
      "Stacktrace:",
      " [1] gemv!(::Array{Float32,1}, ::Char, ::Array{Float32,2}, ::Array{Float32,1}, ::Bool, ::Bool) at /buildworker/worker/package_linux64/build/usr/share/julia/stdlib/v1.5/LinearAlgebra/src/matmul.jl:456",
      " [2] mul! at /buildworker/worker/package_linux64/build/usr/share/julia/stdlib/v1.5/LinearAlgebra/src/matmul.jl:66 [inlined]",
      " [3] mul! at /buildworker/worker/package_linux64/build/usr/share/julia/stdlib/v1.5/LinearAlgebra/src/matmul.jl:208 [inlined]",
      " [4] * at /buildworker/worker/package_linux64/build/usr/share/julia/stdlib/v1.5/LinearAlgebra/src/matmul.jl:47 [inlined]",
      " [5] adjoint at /home/liliana/.julia/packages/Zygote/c0awc/src/lib/array.jl:325 [inlined]",
      " [6] _pullback at /home/liliana/.julia/packages/ZygoteRules/OjfTt/src/adjoint.jl:57 [inlined]",
      " [7] Dense at /home/liliana/.julia/packages/Flux/05b38/src/layers/basic.jl:123 [inlined]",
      " [8] Dense at /home/liliana/.julia/packages/Flux/05b38/src/layers/basic.jl:134 [inlined]",
      " [9] _pullback(::Zygote.Context, ::Dense{typeof(identity),Array{Float32,2},Array{Float32,1}}, ::Array{Float32,1}) at /home/liliana/.julia/packages/Zygote/c0awc/src/compiler/interface2.jl:0",
      " [10] Dense at /home/liliana/.julia/packages/Flux/05b38/src/layers/basic.jl:137 [inlined]",
      " [11] _pullback(::Zygote.Context, ::Dense{typeof(identity),Array{Float32,2},Array{Float32,1}}, ::Array{Float64,1}) at /home/liliana/.julia/packages/Zygote/c0awc/src/compiler/interface2.jl:0",
      " [12] loss at ./In[37]:1 [inlined]",
      " [13] _pullback(::Zygote.Context, ::typeof(loss), ::Array{Float64,1}, ::Array{Float64,1}) at /home/liliana/.julia/packages/Zygote/c0awc/src/compiler/interface2.jl:0",
      " [14] adjoint at /home/liliana/.julia/packages/Zygote/c0awc/src/lib/lib.jl:188 [inlined]",
      " [15] _pullback at /home/liliana/.julia/packages/ZygoteRules/OjfTt/src/adjoint.jl:57 [inlined]",
      " [16] #15 at /home/liliana/.julia/packages/Flux/05b38/src/optimise/train.jl:83 [inlined]",
      " [17] _pullback(::Zygote.Context, ::Flux.Optimise.var\"#15#21\"{typeof(loss),Tuple{Array{Float64,1},Array{Float64,1}}}) at /home/liliana/.julia/packages/Zygote/c0awc/src/compiler/interface2.jl:0",
      " [18] pullback(::Function, ::Zygote.Params) at /home/liliana/.julia/packages/Zygote/c0awc/src/compiler/interface.jl:172",
      " [19] gradient(::Function, ::Zygote.Params) at /home/liliana/.julia/packages/Zygote/c0awc/src/compiler/interface.jl:53",
      " [20] macro expansion at /home/liliana/.julia/packages/Flux/05b38/src/optimise/train.jl:82 [inlined]",
      " [21] macro expansion at /home/liliana/.julia/packages/Juno/n6wyj/src/progress.jl:134 [inlined]",
      " [22] train!(::Function, ::Zygote.Params, ::Array{Tuple{Array{Float64,1},Array{Float64,1}},1}, ::Descent; cb::Flux.Optimise.var\"#16#22\") at /home/liliana/.julia/packages/Flux/05b38/src/optimise/train.jl:80",
      " [23] train!(::Function, ::Zygote.Params, ::Array{Tuple{Array{Float64,1},Array{Float64,1}},1}, ::Descent) at /home/liliana/.julia/packages/Flux/05b38/src/optimise/train.jl:78",
      " [24] top-level scope at In[38]:1",
      " [25] include_string(::Function, ::Module, ::String, ::String) at ./loading.jl:1091",
      " [26] execute_code(::String, ::String) at /home/liliana/.julia/packages/IJulia/a1SNk/src/execute_request.jl:27",
      " [27] execute_request(::ZMQ.Socket, ::IJulia.Msg) at /home/liliana/.julia/packages/IJulia/a1SNk/src/execute_request.jl:86",
      " [28] #invokelatest#1 at ./essentials.jl:710 [inlined]",
      " [29] invokelatest at ./essentials.jl:709 [inlined]",
      " [30] eventloop(::ZMQ.Socket) at /home/liliana/.julia/packages/IJulia/a1SNk/src/eventloop.jl:8",
      " [31] (::IJulia.var\"#15#18\")() at ./task.jl:356"
     ]
    }
   ],
   "source": [
    "Flux.train!(loss, ps, train_data, opt)"
   ]
  },
  {
   "cell_type": "markdown",
   "metadata": {},
   "source": [
    "Flux allows us to create a *callback* function so that we can print information during the training process."
   ]
  },
  {
   "cell_type": "code",
   "execution_count": 39,
   "metadata": {},
   "outputs": [
    {
     "data": {
      "text/plain": [
       "evalcb (generic function with 1 method)"
      ]
     },
     "execution_count": 39,
     "metadata": {},
     "output_type": "execute_result"
    }
   ],
   "source": [
    "evalcb() = @show(loss(test_x, test_y))"
   ]
  },
  {
   "cell_type": "code",
   "execution_count": 40,
   "metadata": {},
   "outputs": [
    {
     "ename": "LoadError",
     "evalue": "UndefVarError: data not defined",
     "output_type": "error",
     "traceback": [
      "UndefVarError: data not defined",
      "",
      "Stacktrace:",
      " [1] top-level scope at In[40]:1",
      " [2] include_string(::Function, ::Module, ::String, ::String) at ./loading.jl:1091",
      " [3] execute_code(::String, ::String) at /home/liliana/.julia/packages/IJulia/a1SNk/src/execute_request.jl:27",
      " [4] execute_request(::ZMQ.Socket, ::IJulia.Msg) at /home/liliana/.julia/packages/IJulia/a1SNk/src/execute_request.jl:86",
      " [5] #invokelatest#1 at ./essentials.jl:710 [inlined]",
      " [6] invokelatest at ./essentials.jl:709 [inlined]",
      " [7] eventloop(::ZMQ.Socket) at /home/liliana/.julia/packages/IJulia/a1SNk/src/eventloop.jl:8",
      " [8] (::IJulia.var\"#15#18\")() at ./task.jl:356"
     ]
    }
   ],
   "source": [
    "Flux.train!(loss, ps, data, opt, cb = throttle(evalcb, 2))"
   ]
  },
  {
   "cell_type": "markdown",
   "metadata": {},
   "source": [
    "To train the model, we can either put the `Flux.train!` function inside a *for loop* or use the *@epoch* macro."
   ]
  },
  {
   "cell_type": "code",
   "execution_count": null,
   "metadata": {},
   "outputs": [],
   "source": []
  }
 ],
 "metadata": {
  "kernelspec": {
   "display_name": "Julia 1.5.2",
   "language": "julia",
   "name": "julia-1.5"
  },
  "language_info": {
   "file_extension": ".jl",
   "mimetype": "application/julia",
   "name": "julia",
   "version": "1.5.2"
  }
 },
 "nbformat": 4,
 "nbformat_minor": 4
}
