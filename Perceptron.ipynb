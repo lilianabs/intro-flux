{
 "cells": [
  {
   "cell_type": "markdown",
   "metadata": {},
   "source": [
    "# Perceptron\n",
    "\n",
    "In this notebook, we show how a perceptron works and code a few examples as well as implement a training algorithm. The following image shows what are the different elements of a perceptron:\n",
    "\n",
    "![alt text](img/single-layer-perceptron-in-tensorflow2.png)\n",
    "\n",
    "Source: https://www.javatpoint.com/single-layer-perceptron-in-tensorflow\n",
    "\n",
    "\n",
    "A perceptron consists of **four** elements:\n",
    "\n",
    "* Inputs \n",
    "* Weights\n",
    "* Summation Bias\n",
    "* Activation\n",
    "\n",
    "\n",
    "We create a function in Julia that computes a perceptron's prediction of an input given the weights and bias."
   ]
  },
  {
   "cell_type": "markdown",
   "metadata": {},
   "source": [
    "We use the unit step activation function:\n",
    "\n",
    "![alt text](img/unit_step.png)"
   ]
  },
  {
   "cell_type": "code",
   "execution_count": 18,
   "metadata": {},
   "outputs": [],
   "source": [
    "using LinearAlgebra"
   ]
  },
  {
   "cell_type": "code",
   "execution_count": 1,
   "metadata": {},
   "outputs": [
    {
     "data": {
      "text/plain": [
       "unit_step (generic function with 1 method)"
      ]
     },
     "execution_count": 1,
     "metadata": {},
     "output_type": "execute_result"
    }
   ],
   "source": [
    "# We set an activation function\n",
    "function unit_step(x)\n",
    "    if x < 0\n",
    "      return 0\n",
    "    else\n",
    "      return 1\n",
    "    end\n",
    "end"
   ]
  },
  {
   "cell_type": "code",
   "execution_count": 23,
   "metadata": {},
   "outputs": [
    {
     "data": {
      "text/plain": [
       "perceptron (generic function with 1 method)"
      ]
     },
     "execution_count": 23,
     "metadata": {},
     "output_type": "execute_result"
    }
   ],
   "source": [
    "function perceptron(x, w, b)\n",
    "   y = unit_step.(dot(x, w) .+ b) \n",
    "end"
   ]
  },
  {
   "cell_type": "code",
   "execution_count": 3,
   "metadata": {},
   "outputs": [
    {
     "data": {
      "text/plain": [
       "1"
      ]
     },
     "execution_count": 3,
     "metadata": {},
     "output_type": "execute_result"
    }
   ],
   "source": [
    "# Test the unit_step function\n",
    "unit_step(0)"
   ]
  },
  {
   "cell_type": "code",
   "execution_count": 22,
   "metadata": {},
   "outputs": [
    {
     "data": {
      "text/plain": [
       "5"
      ]
     },
     "execution_count": 22,
     "metadata": {},
     "output_type": "execute_result"
    }
   ],
   "source": [
    "# Test the perceptron function\n",
    "x = [2, 5]\n",
    "w = [0, 1]\n",
    "b = 10\n",
    "\n",
    "dot(w, x)"
   ]
  },
  {
   "cell_type": "markdown",
   "metadata": {},
   "source": [
    "Now, we test our `perceptron` function by solving the **AND** truth table problem. Say we want to compute the truth table for the **AND** function. Hence we need to compute the following:\n",
    "\n",
    "![alt text](img/and.jpg)"
   ]
  },
  {
   "cell_type": "code",
   "execution_count": 4,
   "metadata": {},
   "outputs": [
    {
     "data": {
      "text/plain": [
       "4×2 Array{Int64,2}:\n",
       " 1  1\n",
       " 0  0\n",
       " 1  0\n",
       " 0  1"
      ]
     },
     "execution_count": 4,
     "metadata": {},
     "output_type": "execute_result"
    }
   ],
   "source": [
    "x = [1 1; 0 0; 1 0; 0 1]"
   ]
  },
  {
   "cell_type": "markdown",
   "metadata": {},
   "source": [
    "Suppose we already know the values for the weights and values that compute the **AND** function and we use them for computing the perceptron AND. We define the function that computes it."
   ]
  },
  {
   "cell_type": "code",
   "execution_count": 5,
   "metadata": {},
   "outputs": [
    {
     "data": {
      "text/plain": [
       "1×2 Array{Int64,2}:\n",
       " 1  1"
      ]
     },
     "execution_count": 5,
     "metadata": {},
     "output_type": "execute_result"
    }
   ],
   "source": [
    "input = [1 1]"
   ]
  },
  {
   "cell_type": "code",
   "execution_count": 10,
   "metadata": {},
   "outputs": [
    {
     "data": {
      "text/plain": [
       "perceptron_and (generic function with 1 method)"
      ]
     },
     "execution_count": 10,
     "metadata": {},
     "output_type": "execute_result"
    }
   ],
   "source": [
    "function perceptron_and(x)\n",
    "   println(\"input $x\")\n",
    "   w = [1, 1]\n",
    "   b = -1.5\n",
    "   println(\"Result: \", perceptron(x, w, b))\n",
    "end"
   ]
  },
  {
   "cell_type": "code",
   "execution_count": 11,
   "metadata": {},
   "outputs": [
    {
     "name": "stdout",
     "output_type": "stream",
     "text": [
      "input [1 1]\n",
      "Result: [0 0; 0 0]\n"
     ]
    }
   ],
   "source": [
    "perceptron_and(input)"
   ]
  },
  {
   "cell_type": "code",
   "execution_count": 28,
   "metadata": {},
   "outputs": [
    {
     "data": {
      "text/plain": [
       "1"
      ]
     },
     "execution_count": 28,
     "metadata": {},
     "output_type": "execute_result"
    }
   ],
   "source": [
    "input = [1, 1]\n",
    "weights = [1, 1]\n",
    "bias = -1.5\n",
    "perceptron(input, weights, bias)"
   ]
  },
  {
   "cell_type": "code",
   "execution_count": null,
   "metadata": {},
   "outputs": [],
   "source": []
  }
 ],
 "metadata": {
  "kernelspec": {
   "display_name": "Julia 1.5.2",
   "language": "julia",
   "name": "julia-1.5"
  },
  "language_info": {
   "file_extension": ".jl",
   "mimetype": "application/julia",
   "name": "julia",
   "version": "1.5.2"
  }
 },
 "nbformat": 4,
 "nbformat_minor": 4
}
