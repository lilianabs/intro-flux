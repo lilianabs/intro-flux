{
 "cells": [
  {
   "cell_type": "markdown",
   "metadata": {},
   "source": [
    "# Perceptron\n",
    "\n",
    "In this notebook, we show how a perceptron works and code a few examples as well as implement a training algorithm. The following image shows what are the different elements of a perceptron:\n",
    "\n",
    "![alt text](img/single-layer-perceptron-in-tensorflow2.png)\n",
    "\n",
    "Source: https://www.javatpoint.com/single-layer-perceptron-in-tensorflow\n",
    "\n",
    "\n",
    "A perceptron consists of **four** elements:\n",
    "\n",
    "* Inputs \n",
    "* Weights\n",
    "* Summation Bias\n",
    "* Activation\n",
    "\n",
    "\n",
    "We create a function in Julia that computes a perceptron's prediction of an input given the weights and bias."
   ]
  },
  {
   "cell_type": "markdown",
   "metadata": {},
   "source": []
  }
 ],
 "metadata": {
  "kernelspec": {
   "display_name": "Julia 1.5.2",
   "language": "julia",
   "name": "julia-1.5"
  },
  "language_info": {
   "file_extension": ".jl",
   "mimetype": "application/julia",
   "name": "julia",
   "version": "1.5.2"
  }
 },
 "nbformat": 4,
 "nbformat_minor": 4
}
